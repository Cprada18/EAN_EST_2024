{
 "cells": [
  {
   "cell_type": "code",
   "execution_count": 10,
   "metadata": {},
   "outputs": [],
   "source": [
    "from scipy.stats import t\n",
    "from scipy.stats import norm\n",
    "import numpy as np"
   ]
  },
  {
   "cell_type": "markdown",
   "metadata": {},
   "source": [
    "Libro mendelhall"
   ]
  },
  {
   "cell_type": "markdown",
   "metadata": {},
   "source": [
    "## Ejercicio 8.32"
   ]
  },
  {
   "cell_type": "code",
   "execution_count": 9,
   "metadata": {},
   "outputs": [
    {
     "data": {
      "text/plain": [
       "(np.float64(0.13633445216467915), np.float64(0.15366554783532083))"
      ]
     },
     "execution_count": 9,
     "metadata": {},
     "output_type": "execute_result"
    }
   ],
   "source": [
    "n = 30 # tamaño de la muestra\n",
    "x = 0.145 # media muestral\n",
    "s = 0.0051 # desviación estándar muestral\n",
    "\n",
    "#Confianza del 90%\n",
    "confianza = 0.90\n",
    "\n",
    "#calculamos intervalos de confianza\n",
    "t_dis = t(loc = x, scale = s, df = n - 1)\n",
    "t_dis.interval(confianza)\n"
   ]
  },
  {
   "cell_type": "markdown",
   "metadata": {},
   "source": [
    "## Ejercicio 8.33"
   ]
  },
  {
   "cell_type": "code",
   "execution_count": 12,
   "metadata": {},
   "outputs": [
    {
     "data": {
      "text/plain": [
       "(np.float64(3.4859206658521678), np.float64(3.9140793341478326))"
      ]
     },
     "execution_count": 12,
     "metadata": {},
     "output_type": "execute_result"
    }
   ],
   "source": [
    "n = 40\n",
    "x = 3.7\n",
    "s = 0.5\n",
    "\n",
    "s1 = s/np.sqrt(n)\n",
    "\n",
    "#confianza 99\n",
    "confianza = 0.99\n",
    "\n",
    "t_dis = t(loc = x, scale = s1, df = n - 1)\n",
    "t_dis.interval(confianza)"
   ]
  },
  {
   "cell_type": "code",
   "execution_count": 13,
   "metadata": {},
   "outputs": [
    {
     "data": {
      "text/plain": [
       "(np.float64(3.496362813424506), np.float64(3.9036371865754944))"
      ]
     },
     "execution_count": 13,
     "metadata": {},
     "output_type": "execute_result"
    }
   ],
   "source": [
    "n = 40\n",
    "x = 3.7\n",
    "s = 0.5\n",
    "\n",
    "s1 = s/np.sqrt(n)\n",
    "\n",
    "#confianza 99\n",
    "confianza = 0.99\n",
    "\n",
    "t_dis = norm(loc = x, scale = s1)\n",
    "t_dis.interval(confianza)"
   ]
  }
 ],
 "metadata": {
  "kernelspec": {
   "display_name": "datasci_env",
   "language": "python",
   "name": "python3"
  },
  "language_info": {
   "codemirror_mode": {
    "name": "ipython",
    "version": 3
   },
   "file_extension": ".py",
   "mimetype": "text/x-python",
   "name": "python",
   "nbconvert_exporter": "python",
   "pygments_lexer": "ipython3",
   "version": "3.12.5"
  }
 },
 "nbformat": 4,
 "nbformat_minor": 2
}
