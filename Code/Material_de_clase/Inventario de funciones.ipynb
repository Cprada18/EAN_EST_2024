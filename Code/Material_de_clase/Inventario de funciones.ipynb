{
 "cells": [
  {
   "cell_type": "markdown",
   "metadata": {},
   "source": [
    "# Inventario de funciones utiles"
   ]
  },
  {
   "cell_type": "code",
   "execution_count": 1,
   "metadata": {},
   "outputs": [],
   "source": [
    "import pandas as pd\n",
    "import numpy as np\n",
    "import matplotlib.pyplot as plt\n",
    "import seaborn as sns"
   ]
  },
  {
   "cell_type": "markdown",
   "metadata": {},
   "source": [
    "### Creacion de una funcion que analice los datasets en una carpeta y retorne un DataFrame que resuma:\n",
    "\n",
    "* Archivo\n",
    "* Cantidad de registros\n",
    "* Nombre de las columnas de cada Dataset\n",
    "* Numero de columnas\n",
    "* Numero de duplicados\n",
    "* Numero de duplicados"
   ]
  },
  {
   "cell_type": "code",
   "execution_count": null,
   "metadata": {},
   "outputs": [],
   "source": [
    "import pandas as pd\n",
    "import glob\n",
    "\n",
    "def resumen_datasets(directorio):\n",
    "    resumen = []\n",
    "\n",
    "    # Usar glob para obtener todas las rutas de archivos CSV en el directorio\n",
    "    rutas = glob.glob(f\"{directorio}/*.csv\")\n",
    "\n",
    "    for ruta in rutas:\n",
    "        df = pd.read_csv(ruta)\n",
    "        nombre_archivo = ruta.split('/')[-1]\n",
    "        columnas = ', '.join(df.columns)  # Convertir la lista de columnas a una cadena de texto\n",
    "        total_columnas = len(df.columns)  # Contar el total de columnas\n",
    "        resumen.append({\n",
    "            'archivo': nombre_archivo,\n",
    "            'registros': len(df),\n",
    "            'columnas': columnas,\n",
    "            'num_columnas': total_columnas,\n",
    "            'duplicados': df.duplicated().sum(),\n",
    "            'nulos': df.isnull().sum().sum()\n",
    "        })\n",
    "\n",
    "    return pd.DataFrame(resumen)\n",
    "\n",
    "# Ejemplo de uso\n",
    "directorio = '../Data/Clase 2'\n",
    "resumen_df = resumen_datasets(directorio)\n",
    "resumen_df"
   ]
  },
  {
   "cell_type": "markdown",
   "metadata": {},
   "source": [
    "### Funcion que toma un DataFrame y analiza informacion sobre variables tipo Objeto y retorna\n",
    "\n",
    "* Numero de Nulos\n",
    "* Valores unicos\n",
    "* Conteo\n",
    "* Moda\n",
    "* Frecuencias de la moda"
   ]
  },
  {
   "cell_type": "code",
   "execution_count": null,
   "metadata": {},
   "outputs": [],
   "source": [
    "def summarize_dataframe(df):\n",
    "    # Select only non-numeric columns\n",
    "    non_numeric_df = df.select_dtypes(exclude=['number'])\n",
    "    \n",
    "    # Create the summary DataFrame\n",
    "    summary = pd.DataFrame({\n",
    "        'Column': non_numeric_df.columns,\n",
    "        'Data Type': non_numeric_df.dtypes,\n",
    "        'Number of Nulls': non_numeric_df.isnull().sum(),\n",
    "        'Count': non_numeric_df.count(),\n",
    "        'Unique': non_numeric_df.nunique(),\n",
    "        'Top': non_numeric_df.mode().iloc[0],\n",
    "        'Frequency': non_numeric_df.apply(lambda x: x.value_counts().iloc[0] if not x.value_counts().empty else None)\n",
    "    })\n",
    "    \n",
    "    # Reset the index\n",
    "    summary.reset_index(drop=True, inplace=True)\n",
    "    \n",
    "    return summary"
   ]
  },
  {
   "cell_type": "markdown",
   "metadata": {},
   "source": [
    "### Convertir un rango de columnas a otro tipo de dato"
   ]
  },
  {
   "cell_type": "code",
   "execution_count": null,
   "metadata": {},
   "outputs": [],
   "source": [
    "df[df.loc[:,'col1':'coln'].columns] = df.loc[:,'col':'coln'].astype('dtype')"
   ]
  },
  {
   "cell_type": "markdown",
   "metadata": {},
   "source": [
    "### Imputar valores nulos usando .fillna()"
   ]
  },
  {
   "cell_type": "code",
   "execution_count": null,
   "metadata": {},
   "outputs": [],
   "source": [
    "df.loc[:, 'col'] = df['col'].fillna(value='input_value')\n",
    "df.loc[:, 'col'] = df['col'].fillna(df['col'].mode().values[0])"
   ]
  },
  {
   "cell_type": "markdown",
   "metadata": {},
   "source": [
    "### Calcular valores unicos y el conteo para generar un grafico de barras con etiquetas"
   ]
  },
  {
   "cell_type": "code",
   "execution_count": null,
   "metadata": {},
   "outputs": [],
   "source": [
    "x, y = np.unique('data', return_counts=True)\n",
    "\n",
    "# Create a bar chart\n",
    "f, ax = plt.subplots()\n",
    "bars = ax.bar(x, y)\n",
    "ax.set_title('Graph Title')\n",
    "ax.set_xlabel('X axis Title')\n",
    "ax.set_ylabel('Frequency')\n",
    "\n",
    "# Add data labels to each bar\n",
    "for bar in bars:\n",
    "    height = bar.get_height()\n",
    "    ax.text(bar.get_x() + bar.get_width() / 2, height, str(height), ha='center', va='bottom')"
   ]
  },
  {
   "cell_type": "code",
   "execution_count": null,
   "metadata": {},
   "outputs": [],
   "source": [
    "import matplotlib.pyplot as plt\n",
    "\n",
    "# Step 2: Define data\n",
    "\n",
    "# Step 3: Create a figure and axes\n",
    "fig, ax = plt.subplots()\n",
    "\n",
    "# Step 4: Plot data (change this line to change the type of graph)\n",
    "ax.plot(x, y)  # For a line plot\n",
    "# ax.scatter(x, y)  # For a scatter plot\n",
    "# ax.bar(x, y)  # For a bar chart\n",
    "\n",
    "# Step 5: Customize the plot\n",
    "ax.set_title('Sample Plot')\n",
    "ax.set_xlabel('X Axis')\n",
    "ax.set_ylabel('Y Axis')\n",
    "\n",
    "# Step 6: Show or save the plot\n",
    "plt.show()\n",
    "# plt.savefig('plot.png')"
   ]
  },
  {
   "cell_type": "code",
   "execution_count": null,
   "metadata": {},
   "outputs": [],
   "source": [
    "def analyze_dataframe(df):    \n",
    "    # Basic summary metrics\n",
    "    summary = {\n",
    "        'Metric': ['Number of columns', 'Number of rows', 'Number of duplicate rows', 'Number of null values'],\n",
    "        'Value': [df.shape[1], df.shape[0], df.duplicated().sum(), df.isnull().sum().sum()]\n",
    "    }    \n",
    "    # Create the summary DataFrame\n",
    "    summary_df = pd.DataFrame(summary)    \n",
    "      \n",
    "    return summary_df"
   ]
  },
  {
   "cell_type": "code",
   "execution_count": null,
   "metadata": {},
   "outputs": [],
   "source": [
    "# Generar 1000 variables aleatorias de Poisson\n",
    "lambda_val = 3  # Tasa promedio de ocurrencia\n",
    "variables_aleatorias = poisson.rvs(mu=lambda_val, size=1000)\n",
    "\n",
    "ser_var = pd.Series(variables_aleatorias)\n",
    "bars = ser_var.value_counts()/len(ser_var)\n",
    "bars = bars.sort_index()\n",
    "\n",
    "# Graficar el diagrama de barras\n",
    "bars.plot(kind='bar')\n",
    "\n",
    "# Mostrar el gráfico\n",
    "plt.title('Diagrama de barras Variables Aleatorias de Poisson')\n",
    "plt.show()"
   ]
  }
 ],
 "metadata": {
  "kernelspec": {
   "display_name": "datasci_env",
   "language": "python",
   "name": "python3"
  },
  "language_info": {
   "codemirror_mode": {
    "name": "ipython",
    "version": 3
   },
   "file_extension": ".py",
   "mimetype": "text/x-python",
   "name": "python",
   "nbconvert_exporter": "python",
   "pygments_lexer": "ipython3",
   "version": "3.12.5"
  }
 },
 "nbformat": 4,
 "nbformat_minor": 2
}
